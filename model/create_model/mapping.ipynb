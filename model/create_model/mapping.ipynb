{
 "cells": [
  {
   "cell_type": "code",
   "execution_count": 2,
   "metadata": {},
   "outputs": [],
   "source": [
    "# 이미지 특성과 음악 무드 카테고리 매핑룰\n",
    "music_mood_mapping = {\n",
    "    # 색상에 따른 매핑\n",
    "    'Red': ['dramatic', 'romantic', 'powerful'],\n",
    "    'Orange': ['happy', 'upbeat', 'energetic'],\n",
    "    'Brown': ['mellow', 'melancholic', 'nature'],\n",
    "    'Gold': ['party', 'epic', 'upbeat'],\n",
    "    'Yellow': ['happy', 'energetic', 'fun'],\n",
    "    'Lime': ['nature', 'energetic', 'fun'],\n",
    "    'Pink': ['romantic', 'soft', 'happy'],\n",
    "    'Green': ['nature', 'relaxing', 'meditative'],\n",
    "    'Mint': ['film', 'calm', 'relaxing'],\n",
    "    'SeaBlue': ['calm', 'relaxing', 'ambiental'],\n",
    "    'Sky': ['dream', 'calm', 'hopeful'],\n",
    "    'Blue': ['calm', 'ambiental', 'cool'],\n",
    "    'Purple': ['emotional', 'dramatic', 'ambiental'],\n",
    "    'Black': ['dark', 'heavy', 'dramatic'],\n",
    "    'White': ['mellow', 'holiday', 'calm'],\n",
    "    'Grey': ['melancholic', 'mellow', 'calm'],\n",
    "\n",
    "    # 색조에 따른 매핑\n",
    "    'Warm': ['happy', 'upbeat', 'romantic'],\n",
    "    'Cool': ['calm', 'relaxing', 'melancholic'],\n",
    "\n",
    "    # 명도에 따른 매핑\n",
    "    'Bright': ['happy', 'energetic', 'fun'],\n",
    "    'Mid': ['meditative', 'mellow', 'relaxing'],\n",
    "    'Dark': ['dramatic', 'melancholic', 'space']\n",
    "}"
   ]
  },
  {
   "cell_type": "code",
   "execution_count": 3,
   "metadata": {},
   "outputs": [
    {
     "name": "stdout",
     "output_type": "stream",
     "text": [
      "테마수 28\n"
     ]
    }
   ],
   "source": [
    "# 사용된 무드테마의 수\n",
    "all_moods = set(sum(music_mood_mapping.values(), []))\n",
    "number_of_moods = len(all_moods)\n",
    "print(\"테마수\", number_of_moods)"
   ]
  },
  {
   "cell_type": "code",
   "execution_count": 4,
   "metadata": {},
   "outputs": [
    {
     "data": {
      "text/plain": [
       "2592"
      ]
     },
     "execution_count": 4,
     "metadata": {},
     "output_type": "execute_result"
    }
   ],
   "source": [
    "# 각 카테고리별 무드 개수\n",
    "num_color_moods = 3 * 16  # 각 색상에 3개의 무드, 총 17개의 색상\n",
    "num_tone_moods = 3 * 2    # 각 색조에 3개의 무드, 총 2개의 색조 (Warm, Cool)\n",
    "num_brightness_moods = 3 * 3  # 각 명도에 3개의 무드, 총 3개의 명도 (Bright, Mid, Dark)\n",
    "\n",
    "# 총 경우의 수 계산\n",
    "total_combinations = num_color_moods * num_tone_moods * num_brightness_moods\n",
    "total_combinations"
   ]
  },
  {
   "cell_type": "code",
   "execution_count": 16,
   "metadata": {},
   "outputs": [],
   "source": [
    "# music_mood_mapping\n",
    "import pandas as pd\n",
    "\n",
    "# 데이터셋을 불러오는 부분\n",
    "data = pd.read_csv(\"analysis_results.csv\")\n",
    "\n",
    "# 이미지 특성에 기반한 음악 무드 추천 함수\n",
    "def recommend_music_mood(dominant_color, tone, brightness):\n",
    "    recommended_moods = set()\n",
    "    \n",
    "    if dominant_color in music_mood_mapping:\n",
    "        recommended_moods.update(music_mood_mapping[dominant_color])\n",
    "    \n",
    "    if tone in music_mood_mapping:\n",
    "        recommended_moods.update(music_mood_mapping[tone])\n",
    "    \n",
    "    if brightness in music_mood_mapping:\n",
    "        recommended_moods.update(music_mood_mapping[brightness])\n",
    "    \n",
    "    return recommended_moods\n",
    "\n",
    "# 데이터셋의 각 행에 대해 추천된 음악 무드를 계산하고 새로운 컬럼에 저장하는 부분\n",
    "data['mood_mapping_Rule'] = data.apply(\n",
    "    lambda row: recommend_music_mood(row['DominantColor'], row['Tone'], row['Brightness']), \n",
    "    axis=1\n",
    ")\n",
    "\n",
    "file_path = 'analysis_results.csv'\n",
    "data.to_csv(file_path, index=False)\n"
   ]
  },
  {
   "cell_type": "code",
   "execution_count": 17,
   "metadata": {},
   "outputs": [
    {
     "data": {
      "text/plain": [
       "['mlb.pkl']"
      ]
     },
     "execution_count": 17,
     "metadata": {},
     "output_type": "execute_result"
    }
   ],
   "source": [
    "# 필요한 라이브러리 임포트\n",
    "from sklearn.ensemble import RandomForestClassifier\n",
    "from sklearn.model_selection import train_test_split\n",
    "from sklearn.preprocessing import MultiLabelBinarizer\n",
    "from sklearn.metrics import accuracy_score, f1_score\n",
    "import pandas as pd\n",
    "import joblib\n",
    "\n",
    "# 데이터셋 불러오기\n",
    "data = pd.read_csv(file_path)\n",
    "\n",
    "# 특성과 타겟 변수 선택\n",
    "X = data[[\n",
    "        'Warm', 'Cool',\n",
    "        'Bright', 'Mid', 'Dark',\n",
    "        'Red', 'Orange', 'Brown', 'Gold', 'Yellow',\n",
    "        'Lime', 'Pink', 'Green', 'Mint', 'SeaBlue', 'Sky', 'Blue', 'Purple',\n",
    "        \"Black\", \"White\", \"Grey\"\n",
    "        ]]\n",
    "\n",
    "y = data['mood_mapping_Rule'].apply(lambda x: x.split(','))  # 태그를 분리하여 리스트로 변환\n",
    "mlb = MultiLabelBinarizer()\n",
    "y = mlb.fit_transform(y)  # 멀티-라벨 이진화\n",
    "\n",
    "# 데이터 분할\n",
    "X_train, X_test, y_train, y_test = train_test_split(X, y, test_size=0.2, random_state=42)\n",
    "\n",
    "# 모델 생성 및 훈련\n",
    "model = RandomForestClassifier(n_estimators=100, random_state=42)\n",
    "model.fit(X_train, y_train)\n",
    "\n",
    "# 모델을 파일로 저장\n",
    "model_filename = 'Recommended_Moodes_Predict.pkl'  # 저장할 파일 경로 및 이름 설정\n",
    "joblib.dump(model, model_filename)\n",
    "\n",
    "# mlb 객체 저장\n",
    "mlb_filename = 'mlb.pkl'\n",
    "joblib.dump(mlb, mlb_filename)"
   ]
  },
  {
   "cell_type": "code",
   "execution_count": null,
   "metadata": {},
   "outputs": [],
   "source": []
  },
  {
   "cell_type": "code",
   "execution_count": 54,
   "metadata": {},
   "outputs": [
    {
     "name": "stdout",
     "output_type": "stream",
     "text": [
      "Accuracy: 0.7\n",
      "F1 Score: 0.9153846153846154\n"
     ]
    }
   ],
   "source": [
    "# 예측 및 성능 평가\n",
    "y_pred = model.predict(X_test)\n",
    "accuracy = accuracy_score(y_test, y_pred)\n",
    "f1 = f1_score(y_test, y_pred, average='micro')  # 멀티-라벨 분류의 경우 'micro' 평균을 사용\n",
    "\n",
    "# 결과 출력\n",
    "print(\"Accuracy:\", accuracy)\n",
    "print(\"F1 Score:\", f1)"
   ]
  },
  {
   "cell_type": "code",
   "execution_count": 55,
   "metadata": {},
   "outputs": [],
   "source": [
    "# 사용예시\n",
    "new_data = {\n",
    "    'Warm': 0.8, 'Cool': 0.2,\n",
    "    'Bright': 0.5, 'Mid': 0.4, 'Dark': 0.1,\n",
    "    'Red': 0.1, 'Orange': 0.2, 'Brown': 0.1, 'Gold': 0.05, 'Yellow': 0.05,\n",
    "    'Lime': 0.05, 'Pink': 0.1, 'Green': 0.05, 'Mint': 0.05, 'SeaBlue': 0.05,\n",
    "    'Sky': 0.05, 'Blue': 0.05, 'Purple': 0.05,\n",
    "    'Black': 0.05, 'White': 0.05, 'Grey': 0.05\n",
    "}\n",
    "\n",
    "# DataFrame으로 변환\n",
    "new_data_df = pd.DataFrame([new_data])\n",
    "\n",
    "# 모델을 사용하여 무드 예측\n",
    "predicted_mood = model.predict(new_data_df)\n",
    "\n",
    "# 예측된 무드를 이진 라벨에서 원래의 태그로 변환\n",
    "predicted_mood_tags = mlb.inverse_transform(predicted_mood)"
   ]
  },
  {
   "cell_type": "code",
   "execution_count": 65,
   "metadata": {},
   "outputs": [
    {
     "data": {
      "text/plain": [
       "(\" 'energetic'\", \" 'fun'}\", \" 'romantic'\", \" 'upbeat'\", \"{'happy'\")"
      ]
     },
     "execution_count": 65,
     "metadata": {},
     "output_type": "execute_result"
    }
   ],
   "source": [
    "predicted_mood_tags[0]  # 첫 번째 샘플의 예측된 무드 태그 출력"
   ]
  },
  {
   "cell_type": "code",
   "execution_count": 64,
   "metadata": {},
   "outputs": [
    {
     "data": {
      "image/png": "[encoded data removed]",
      "text/plain": [
       "<Figure size 1000x600 with 1 Axes>"
      ]
     },
     "metadata": {},
     "output_type": "display_data"
    }
   ],
   "source": [
    "# 결과 시각화\n",
    "import matplotlib.pyplot as plt\n",
    "\n",
    "# 특성 중요도 추출\n",
    "feature_importances = model.feature_importances_\n",
    "\n",
    "# 특성 이름\n",
    "feature_names = X.columns\n",
    "\n",
    "# 중요도에 따라 특성 정렬\n",
    "sorted_idx = feature_importances.argsort()\n",
    "\n",
    "# 시각화\n",
    "plt.figure(figsize=(10, 6))\n",
    "plt.barh(feature_names[sorted_idx], feature_importances[sorted_idx])\n",
    "plt.xlabel('Feature Importance')\n",
    "plt.ylabel('Feature')\n",
    "plt.title('Feature Importance for Mood Prediction')\n",
    "plt.show()\n"
   ]
  },
  {
   "cell_type": "code",
   "execution_count": null,
   "metadata": {},
   "outputs": [],
   "source": []
  },
  {
   "cell_type": "code",
   "execution_count": null,
   "metadata": {},
   "outputs": [],
   "source": [
    "# 파일분류\n",
    "import pandas as pd\n",
    "import os\n",
    "import shutil\n",
    "\n",
    "# 원본 이미지 폴더와 새로운 폴더 경로 정의\n",
    "data = pd.read_csv(\"analysis_results.csv\")\n",
    "categorized_images = 'categorized_images'  # 분류된 이미지를 저장할 새 폴더 경로\n",
    "\n",
    "\n",
    "# 각 이미지를 해당하는 폴더로 카피하는 로직 수행\n",
    "for index, row in data.iterrows():\n",
    "    # 분류 폴더명 생성 (Tone, DominantColor, Brightness를 기준으로)\n",
    "    folder_name = f\"{row['Mood']}\"\n",
    "\n",
    "    # 원본 파일 경로\n",
    "    original_file_path = os.path.join(directory_path, row['Filename'])\n",
    "\n",
    "    # 새 폴더 경로\n",
    "    new_folder_path = os.path.join(categorized_images, folder_name)\n",
    "    os.makedirs(new_folder_path, exist_ok=True)  # 폴더가 없으면 생성, 이미 있으면 무시\n",
    "\n",
    "    # 이미지를 새 폴더로 카피\n",
    "    csv_file_path = os.path.join(new_folder_path, row['Filename'])\n",
    "    shutil.copy(original_file_path, csv_file_path)"
   ]
  },
  {
   "cell_type": "code",
   "execution_count": null,
   "metadata": {},
   "outputs": [],
   "source": [
    "def determine_mood(row, rules):\n",
    "    \n",
    "    for mood, values in rules.items():\n",
    "        if row['Tone'] == values[0] and row['DominantColor'] == values[1] and row['Brightness'] == values[2]:\n",
    "            return mood\n",
    "    return 'Undefined'  # 일치하는 분위기가 없는 경우\n",
    "\n",
    "# 데이터셋의 각 행에 대해 분위기를 결정합니다.\n",
    "data['Mood'] = data.apply(lambda row: determine_mood(row, music_mood_mapping), axis=1)"
   ]
  }
 ],
 "metadata": {
  "kernelspec": {
   "display_name": "MetaWave",
   "language": "python",
   "name": "python3"
  },
  "language_info": {
   "codemirror_mode": {
    "name": "ipython",
    "version": 3
   },
   "file_extension": ".py",
   "mimetype": "text/x-python",
   "name": "python",
   "nbconvert_exporter": "python",
   "pygments_lexer": "ipython3",
   "version": "3.8.18"
  }
 },
 "nbformat": 4,
 "nbformat_minor": 2
}
