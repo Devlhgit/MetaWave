{
 "cells": [
  {
   "cell_type": "code",
   "execution_count": 6,
   "metadata": {},
   "outputs": [],
   "source": [
    "# 이미지 특성과 음악 무드 카테고리 매핑룰\n",
    "music_mood_mapping = {\n",
    "    # 색상에 따른 매핑\n",
    "    'Red': ['dramatic', 'romantic', 'powerful'],\n",
    "    'Orange': ['happy', 'upbeat', 'energetic'],\n",
    "    'Brown': ['mellow', 'melancholic', 'nature'],\n",
    "    'Gold': ['party', 'epic', 'upbeat'],\n",
    "    'Yellow': ['happy', 'energetic', 'fun'],\n",
    "    'Lime': ['nature', 'energetic', 'fun'],\n",
    "    'Pink': ['romantic', 'soft', 'happy'],\n",
    "    'Green': ['nature', 'relaxing', 'meditative'],\n",
    "    'Mint': ['film', 'calm', 'relaxing'],\n",
    "    'SeaBlue': ['calm', 'relaxing', 'ambiental'],\n",
    "    'Sky': ['dream', 'calm', 'hopeful'],\n",
    "    'Blue': ['calm', 'ambiental', 'cool'],\n",
    "    'Purple': ['emotional', 'dramatic', 'ambiental'],\n",
    "    'Black': ['dark', 'heavy', 'dramatic'],\n",
    "    'White': ['mellow', 'holiday', 'calm'],\n",
    "    'Grey': ['melancholic', 'mellow', 'calm'],\n",
    "\n",
    "    # 색조에 따른 매핑\n",
    "    'Warm': ['happy', 'upbeat', 'romantic' ],\n",
    "    'Cool': ['calm', 'relaxing', 'melancholic'],\n",
    "\n",
    "    # 명도에 따른 매핑\n",
    "    'Bright': ['happy', 'energetic', 'fun'],\n",
    "    'Mid': ['meditative', 'mellow', 'relaxing'],\n",
    "    'Dark': ['dramatic', 'melancholic', 'space']\n",
    "}"
   ]
  },
  {
   "cell_type": "code",
   "execution_count": 7,
   "metadata": {},
   "outputs": [
    {
     "name": "stdout",
     "output_type": "stream",
     "text": [
      "테마수 26\n"
     ]
    }
   ],
   "source": [
    "# 사용된 무드테마의 수\n",
    "all_moods = set(sum(music_mood_mapping.values(), []))\n",
    "number_of_moods = len(all_moods)\n",
    "print(\"테마수\", number_of_moods)"
   ]
  },
  {
   "cell_type": "code",
   "execution_count": 8,
   "metadata": {},
   "outputs": [
    {
     "data": {
      "text/plain": [
       "2592"
      ]
     },
     "execution_count": 8,
     "metadata": {},
     "output_type": "execute_result"
    }
   ],
   "source": [
    "# 각 카테고리별 무드 개수\n",
    "num_color_moods = 3 * 16  # 각 색상에 3개의 무드, 총 17개의 색상\n",
    "num_tone_moods = 3 * 2    # 각 색조에 3개의 무드, 총 2개의 색조 (Warm, Cool)\n",
    "num_brightness_moods = 3 * 3  # 각 명도에 3개의 무드, 총 3개의 명도 (Bright, Mid, Dark)\n",
    "\n",
    "# 총 경우의 수 계산\n",
    "total_combinations = num_color_moods * num_tone_moods * num_brightness_moods\n",
    "total_combinations"
   ]
  },
  {
   "cell_type": "code",
   "execution_count": 9,
   "metadata": {},
   "outputs": [
    {
     "data": {
      "text/plain": [
       "Index(['Filename', 'Warm', 'Cool', 'Bright', 'Mid', 'Dark', 'Red', 'Orange',\n",
       "       'Brown', 'Gold', 'Yellow', 'Lime', 'Green', 'Mint', 'SeaBlue', 'Sky',\n",
       "       'Blue', 'Purple', 'Pink', 'Black', 'White', 'Grey', 'Tone',\n",
       "       'DominantColor', 'Brightness', 'mood_mapping_Rule'],\n",
       "      dtype='object')"
      ]
     },
     "execution_count": 9,
     "metadata": {},
     "output_type": "execute_result"
    }
   ],
   "source": [
    "import pandas as pd\n",
    "data = pd.read_csv(\"analysis_results.csv\")\n",
    "data.columns"
   ]
  },
  {
   "cell_type": "code",
   "execution_count": 10,
   "metadata": {},
   "outputs": [],
   "source": [
    "import pandas as pd\n",
    "from sklearn.preprocessing import MultiLabelBinarizer\n",
    "from tqdm.auto import tqdm\n",
    "from sklearn.base import clone\n",
    "\n",
    "# 데이터셋을 불러옵니다.\n",
    "data = pd.read_csv(\"analysis_results.csv\")\n",
    "\n",
    "# 이미지 특성에 기반한 음악 무드 추천 함수\n",
    "def recommend_music_mood(dominant_color, tone, brightness):\n",
    "    recommended_moods = set()\n",
    "    \n",
    "    if dominant_color in music_mood_mapping:\n",
    "        recommended_moods.update(music_mood_mapping[dominant_color])\n",
    "    \n",
    "    if tone in music_mood_mapping:\n",
    "        recommended_moods.update(music_mood_mapping[tone])\n",
    "    \n",
    "    if brightness in music_mood_mapping:\n",
    "        recommended_moods.update(music_mood_mapping[brightness])\n",
    "    \n",
    "    return list(recommended_moods)  # 세트를 리스트로 변환\n",
    "\n",
    "# 데이터셋의 각 행에 대해 추천된 음악 무드를 계산하고 새로운 컬럼에 저장합니다.\n",
    "data['mood_mapping_Rule'] = data.apply(\n",
    "    lambda row: recommend_music_mood(row['DominantColor'], row['Tone'], row['Brightness']), \n",
    "    axis=1\n",
    ")\n",
    "\n",
    "# 멀티-라벨 이진화를 위해 리스트 형태의 데이터를 준비합니다.\n",
    "mlb = MultiLabelBinarizer()\n",
    "y = mlb.fit_transform(data['mood_mapping_Rule'])\n",
    "\n",
    "# 나머지 모델 훈련 과정은 기존과 동일하게 진행합니다.\n",
    "\n",
    "# 데이터 저장\n",
    "file_path = \"analysis_results.csv\"\n",
    "data.to_csv(file_path, index=False)\n"
   ]
  },
  {
   "cell_type": "code",
   "execution_count": 13,
   "metadata": {},
   "outputs": [
    {
     "name": "stderr",
     "output_type": "stream",
     "text": [
      "Training models: 100%|██████████| 100/100 [00:12<00:00,  7.96it/s]\n"
     ]
    },
    {
     "data": {
      "text/plain": [
       "['Recommended_Moodes_mlb.pkl']"
      ]
     },
     "execution_count": 13,
     "metadata": {},
     "output_type": "execute_result"
    }
   ],
   "source": [
    "# tqdm 진행상황확인 랜포학습\n",
    "from sklearn.ensemble import RandomForestClassifier\n",
    "from sklearn.model_selection import train_test_split\n",
    "from sklearn.preprocessing import MultiLabelBinarizer\n",
    "import pandas as pd\n",
    "import joblib\n",
    "from tqdm.auto import tqdm\n",
    "from sklearn.base import clone\n",
    "\n",
    "# 데이터셋 불러오기\n",
    "data = pd.read_csv(file_path)\n",
    "\n",
    "# 모델 훈련을 위한 함수 정의\n",
    "def train_model(X, y, model, n_estimators):\n",
    "    models = [clone(model) for _ in range(n_estimators)]\n",
    "    for i, m in tqdm(enumerate(models), total=n_estimators, desc=\"Training models\"):\n",
    "        m.fit(X, y)\n",
    "    return models\n",
    "\n",
    "# 특성과 타겟 변수 선택\n",
    "X = data[[\n",
    "        'Warm', 'Cool',\n",
    "        'Bright', 'Mid', 'Dark',\n",
    "        'Red', 'Orange', 'Brown', 'Gold', 'Yellow',\n",
    "        'Lime', 'Pink', 'Green', 'Mint', 'SeaBlue',\n",
    "        'Sky', 'Blue', 'Purple',\n",
    "        \"Black\", \"White\", \"Grey\"\n",
    "        ]]\n",
    "\n",
    "y = data['mood_mapping_Rule'].apply(lambda x: x.split(','))  # 태그를 분리하여 리스트로 변환\n",
    "mlb = MultiLabelBinarizer()\n",
    "y = mlb.fit_transform(y)  # 멀티-라벨 이진화\n",
    "\n",
    "# 데이터 분할\n",
    "X_train, X_test, y_train, y_test = train_test_split(X, y, test_size=0.2, random_state=42)\n",
    "\n",
    "# 모델 생성\n",
    "model = RandomForestClassifier(n_estimators=100, random_state=42)\n",
    "\n",
    "# 모델 훈련\n",
    "trained_models = train_model(X_train, y_train, model, model.n_estimators)\n",
    "\n",
    "# 모델 저장 (주의: 이 경우 여러 모델이므로 저장 방식을 조정해야 함)\n",
    "model_filename = 'Recommended_Moodes.pkl'\n",
    "joblib.dump(trained_models, model_filename)\n",
    "\n",
    "# mlb 객체 저장\n",
    "mlb_filename = 'Recommended_Moodes_mlb.pkl'\n",
    "joblib.dump(mlb, mlb_filename)"
   ]
  },
  {
   "cell_type": "code",
   "execution_count": null,
   "metadata": {},
   "outputs": [],
   "source": [
    "train_model."
   ]
  },
  {
   "cell_type": "code",
   "execution_count": 40,
   "metadata": {},
   "outputs": [
    {
     "name": "stdout",
     "output_type": "stream",
     "text": [
      "[\" 'calm'\" \" 'cool'}\" \" 'dramatic'\" \" 'dramatic'}\" \" 'dream'}\"\n",
      " \" 'emotional'\" \" 'energetic'\" \" 'epic'}\" \" 'film'\"]\n"
     ]
    }
   ],
   "source": [
    "import pickle\n",
    "\n",
    "# 'your_file.pkl' 대신에 실제 파일 경로를 입력하세요.\n",
    "file_path = r'C:\\Users\\gjaischool\\Desktop\\MetaWave\\MetaWave\\model\\mlb.pkl'\n",
    "\n",
    "# 파일을 읽기 모드로 열기\n",
    "with open(file_path, 'rb') as file:\n",
    "    # Pickle을 사용하여 데이터 로드\n",
    "    data = pickle.load(file)\n",
    "\n",
    "# 데이터의 일부를 확인\n",
    "# 예: 데이터가 리스트라면 처음 몇 개의 요소를 출력\n",
    "print(data[1:10])\n"
   ]
  },
  {
   "cell_type": "code",
   "execution_count": 41,
   "metadata": {},
   "outputs": [
    {
     "name": "stdout",
     "output_type": "stream",
     "text": [
      "['Warm' 'Cool' 'Bright' 'Mid' 'Dark' 'Red' 'Orange' 'Brown' 'Gold'\n",
      " 'Yellow' 'Lime' 'Pink' 'Green' 'Mint' 'SeaBlue' 'Sky' 'Blue' 'Purple'\n",
      " 'Black' 'White' 'Grey']\n",
      "['Cool' 'Bright' 'Mid' 'Dark' 'Red' 'Orange' 'Brown' 'Gold' 'Yellow'\n",
      " 'Lime' 'Pink' 'Green' 'Mint' 'SeaBlue' 'Sky' 'Blue' 'Purple' 'Black'\n",
      " 'White' 'Grey']\n"
     ]
    }
   ],
   "source": [
    "import pickle\n",
    "\n",
    "# 'your_file.pkl' 대신에 실제 파일 경로를 입력하세요.\n",
    "file_path = r\"C:\\Users\\gjaischool\\Desktop\\MetaWave\\MetaWave\\model\\model.pkl\"\n",
    "\n",
    "# 파일을 읽기 모드로 열기\n",
    "with open(file_path, 'rb') as file:\n",
    "    # Pickle을 사용하여 데이터 로드\n",
    "    data = pickle.load(file)\n",
    "\n",
    "# 데이터의 일부를 확인\n",
    "# 예: 데이터가 리스트라면 처음 몇 개의 요소를 출력\n",
    "print(data[0:])\n",
    "print(data[1:])\n"
   ]
  },
  {
   "cell_type": "code",
   "execution_count": 24,
   "metadata": {},
   "outputs": [
    {
     "ename": "KeyError",
     "evalue": "'Mood'",
     "output_type": "error",
     "traceback": [
      "\u001b[1;31m---------------------------------------------------------------------------\u001b[0m",
      "\u001b[1;31mKeyError\u001b[0m                                  Traceback (most recent call last)",
      "File \u001b[1;32mc:\\Users\\gjaischool\\anaconda3\\envs\\MetaWave\\lib\\site-packages\\pandas\\core\\indexes\\base.py:3621\u001b[0m, in \u001b[0;36mIndex.get_loc\u001b[1;34m(self, key, method, tolerance)\u001b[0m\n\u001b[0;32m   3620\u001b[0m \u001b[39mtry\u001b[39;00m:\n\u001b[1;32m-> 3621\u001b[0m     \u001b[39mreturn\u001b[39;00m \u001b[39mself\u001b[39;49m\u001b[39m.\u001b[39;49m_engine\u001b[39m.\u001b[39;49mget_loc(casted_key)\n\u001b[0;32m   3622\u001b[0m \u001b[39mexcept\u001b[39;00m \u001b[39mKeyError\u001b[39;00m \u001b[39mas\u001b[39;00m err:\n",
      "File \u001b[1;32mc:\\Users\\gjaischool\\anaconda3\\envs\\MetaWave\\lib\\site-packages\\pandas\\_libs\\index.pyx:136\u001b[0m, in \u001b[0;36mpandas._libs.index.IndexEngine.get_loc\u001b[1;34m()\u001b[0m\n",
      "File \u001b[1;32mc:\\Users\\gjaischool\\anaconda3\\envs\\MetaWave\\lib\\site-packages\\pandas\\_libs\\index.pyx:163\u001b[0m, in \u001b[0;36mpandas._libs.index.IndexEngine.get_loc\u001b[1;34m()\u001b[0m\n",
      "File \u001b[1;32mpandas\\_libs\\hashtable_class_helper.pxi:5198\u001b[0m, in \u001b[0;36mpandas._libs.hashtable.PyObjectHashTable.get_item\u001b[1;34m()\u001b[0m\n",
      "File \u001b[1;32mpandas\\_libs\\hashtable_class_helper.pxi:5206\u001b[0m, in \u001b[0;36mpandas._libs.hashtable.PyObjectHashTable.get_item\u001b[1;34m()\u001b[0m\n",
      "\u001b[1;31mKeyError\u001b[0m: 'Mood'",
      "\nThe above exception was the direct cause of the following exception:\n",
      "\u001b[1;31mKeyError\u001b[0m                                  Traceback (most recent call last)",
      "\u001b[1;32mc:\\Users\\gjaischool\\Desktop\\MetaWave\\MetaWave\\model\\temp\\mapping.ipynb 셀 8\u001b[0m line \u001b[0;36m1\n\u001b[0;32m     <a href='vscode-notebook-cell:/c%3A/Users/gjaischool/Desktop/MetaWave/MetaWave/model/temp/mapping.ipynb#W5sZmlsZQ%3D%3D?line=10'>11</a>\u001b[0m \u001b[39m# 각 이미지를 해당하는 폴더로 카피하는 로직 수행\u001b[39;00m\n\u001b[0;32m     <a href='vscode-notebook-cell:/c%3A/Users/gjaischool/Desktop/MetaWave/MetaWave/model/temp/mapping.ipynb#W5sZmlsZQ%3D%3D?line=11'>12</a>\u001b[0m \u001b[39mfor\u001b[39;00m index, row \u001b[39min\u001b[39;00m data\u001b[39m.\u001b[39miterrows():\n\u001b[0;32m     <a href='vscode-notebook-cell:/c%3A/Users/gjaischool/Desktop/MetaWave/MetaWave/model/temp/mapping.ipynb#W5sZmlsZQ%3D%3D?line=12'>13</a>\u001b[0m     \u001b[39m# 분류 폴더명 생성 (Tone, DominantColor, Brightness를 기준으로)\u001b[39;00m\n\u001b[1;32m---> <a href='vscode-notebook-cell:/c%3A/Users/gjaischool/Desktop/MetaWave/MetaWave/model/temp/mapping.ipynb#W5sZmlsZQ%3D%3D?line=13'>14</a>\u001b[0m     folder_name \u001b[39m=\u001b[39m \u001b[39mf\u001b[39m\u001b[39m\"\u001b[39m\u001b[39m{\u001b[39;00mrow[\u001b[39m'\u001b[39m\u001b[39mMood\u001b[39m\u001b[39m'\u001b[39m]\u001b[39m}\u001b[39;00m\u001b[39m\"\u001b[39m\n\u001b[0;32m     <a href='vscode-notebook-cell:/c%3A/Users/gjaischool/Desktop/MetaWave/MetaWave/model/temp/mapping.ipynb#W5sZmlsZQ%3D%3D?line=15'>16</a>\u001b[0m     \u001b[39m# 원본 파일 경로\u001b[39;00m\n\u001b[0;32m     <a href='vscode-notebook-cell:/c%3A/Users/gjaischool/Desktop/MetaWave/MetaWave/model/temp/mapping.ipynb#W5sZmlsZQ%3D%3D?line=16'>17</a>\u001b[0m     original_file_path \u001b[39m=\u001b[39m os\u001b[39m.\u001b[39mpath\u001b[39m.\u001b[39mjoin(directory_path, row[\u001b[39m'\u001b[39m\u001b[39mFilename\u001b[39m\u001b[39m'\u001b[39m])\n",
      "File \u001b[1;32mc:\\Users\\gjaischool\\anaconda3\\envs\\MetaWave\\lib\\site-packages\\pandas\\core\\series.py:959\u001b[0m, in \u001b[0;36mSeries.__getitem__\u001b[1;34m(self, key)\u001b[0m\n\u001b[0;32m    956\u001b[0m     \u001b[39mreturn\u001b[39;00m \u001b[39mself\u001b[39m\u001b[39m.\u001b[39m_values[key]\n\u001b[0;32m    958\u001b[0m \u001b[39melif\u001b[39;00m key_is_scalar:\n\u001b[1;32m--> 959\u001b[0m     \u001b[39mreturn\u001b[39;00m \u001b[39mself\u001b[39;49m\u001b[39m.\u001b[39;49m_get_value(key)\n\u001b[0;32m    961\u001b[0m \u001b[39mif\u001b[39;00m is_hashable(key):\n\u001b[0;32m    962\u001b[0m     \u001b[39m# Otherwise index.get_value will raise InvalidIndexError\u001b[39;00m\n\u001b[0;32m    963\u001b[0m     \u001b[39mtry\u001b[39;00m:\n\u001b[0;32m    964\u001b[0m         \u001b[39m# For labels that don't resolve as scalars like tuples and frozensets\u001b[39;00m\n",
      "File \u001b[1;32mc:\\Users\\gjaischool\\anaconda3\\envs\\MetaWave\\lib\\site-packages\\pandas\\core\\series.py:1070\u001b[0m, in \u001b[0;36mSeries._get_value\u001b[1;34m(self, label, takeable)\u001b[0m\n\u001b[0;32m   1067\u001b[0m     \u001b[39mreturn\u001b[39;00m \u001b[39mself\u001b[39m\u001b[39m.\u001b[39m_values[label]\n\u001b[0;32m   1069\u001b[0m \u001b[39m# Similar to Index.get_value, but we do not fall back to positional\u001b[39;00m\n\u001b[1;32m-> 1070\u001b[0m loc \u001b[39m=\u001b[39m \u001b[39mself\u001b[39;49m\u001b[39m.\u001b[39;49mindex\u001b[39m.\u001b[39;49mget_loc(label)\n\u001b[0;32m   1071\u001b[0m \u001b[39mreturn\u001b[39;00m \u001b[39mself\u001b[39m\u001b[39m.\u001b[39mindex\u001b[39m.\u001b[39m_get_values_for_loc(\u001b[39mself\u001b[39m, loc, label)\n",
      "File \u001b[1;32mc:\\Users\\gjaischool\\anaconda3\\envs\\MetaWave\\lib\\site-packages\\pandas\\core\\indexes\\base.py:3623\u001b[0m, in \u001b[0;36mIndex.get_loc\u001b[1;34m(self, key, method, tolerance)\u001b[0m\n\u001b[0;32m   3621\u001b[0m     \u001b[39mreturn\u001b[39;00m \u001b[39mself\u001b[39m\u001b[39m.\u001b[39m_engine\u001b[39m.\u001b[39mget_loc(casted_key)\n\u001b[0;32m   3622\u001b[0m \u001b[39mexcept\u001b[39;00m \u001b[39mKeyError\u001b[39;00m \u001b[39mas\u001b[39;00m err:\n\u001b[1;32m-> 3623\u001b[0m     \u001b[39mraise\u001b[39;00m \u001b[39mKeyError\u001b[39;00m(key) \u001b[39mfrom\u001b[39;00m \u001b[39merr\u001b[39;00m\n\u001b[0;32m   3624\u001b[0m \u001b[39mexcept\u001b[39;00m \u001b[39mTypeError\u001b[39;00m:\n\u001b[0;32m   3625\u001b[0m     \u001b[39m# If we have a listlike key, _check_indexing_error will raise\u001b[39;00m\n\u001b[0;32m   3626\u001b[0m     \u001b[39m#  InvalidIndexError. Otherwise we fall through and re-raise\u001b[39;00m\n\u001b[0;32m   3627\u001b[0m     \u001b[39m#  the TypeError.\u001b[39;00m\n\u001b[0;32m   3628\u001b[0m     \u001b[39mself\u001b[39m\u001b[39m.\u001b[39m_check_indexing_error(key)\n",
      "\u001b[1;31mKeyError\u001b[0m: 'Mood'"
     ]
    }
   ],
   "source": [
    "# 파일분류\n",
    "import pandas as pd\n",
    "import os\n",
    "import shutil\n",
    "\n",
    "# 원본 이미지 폴더와 새로운 폴더 경로 정의\n",
    "data = pd.read_csv(\"analysis_results.csv\")\n",
    "categorized_images = 'categorized_images'  # 분류된 이미지를 저장할 새 폴더 경로\n",
    "\n",
    "\n",
    "# 각 이미지를 해당하는 폴더로 카피하는 로직 수행\n",
    "for index, row in data.iterrows():\n",
    "    # 분류 폴더명 생성 (Tone, DominantColor, Brightness를 기준으로)\n",
    "    folder_name = f\"{row['Mood']}\"\n",
    "\n",
    "    # 원본 파일 경로\n",
    "    original_file_path = os.path.join(directory_path, row['Filename'])\n",
    "\n",
    "    # 새 폴더 경로\n",
    "    new_folder_path = os.path.join(categorized_images, folder_name)\n",
    "    os.makedirs(new_folder_path, exist_ok=True)  # 폴더가 없으면 생성, 이미 있으면 무시\n",
    "\n",
    "    # 이미지를 새 폴더로 카피\n",
    "    csv_file_path = os.path.join(new_folder_path, row['Filename'])\n",
    "    shutil.copy(original_file_path, csv_file_path)"
   ]
  },
  {
   "cell_type": "code",
   "execution_count": null,
   "metadata": {},
   "outputs": [],
   "source": [
    "def determine_mood(row, rules):\n",
    "    \n",
    "    for mood, values in rules.items():\n",
    "        if row['Tone'] == values[0] and row['DominantColor'] == values[1] and row['Brightness'] == values[2]:\n",
    "            return mood\n",
    "    return 'Undefined'  # 일치하는 분위기가 없는 경우\n",
    "\n",
    "# 데이터셋의 각 행에 대해 분위기를 결정합니다.\n",
    "data['Mood'] = data.apply(lambda row: determine_mood(row, music_mood_mapping), axis=1)"
   ]
  }
 ],
 "metadata": {
  "kernelspec": {
   "display_name": "MetaWave",
   "language": "python",
   "name": "python3"
  },
  "language_info": {
   "codemirror_mode": {
    "name": "ipython",
    "version": 3
   },
   "file_extension": ".py",
   "mimetype": "text/x-python",
   "name": "python",
   "nbconvert_exporter": "python",
   "pygments_lexer": "ipython3",
   "version": "3.8.18"
  }
 },
 "nbformat": 4,
 "nbformat_minor": 2
}
