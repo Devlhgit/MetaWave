{
 "cells": [
  {
   "cell_type": "code",
   "execution_count": 8,
   "metadata": {},
   "outputs": [
    {
     "name": "stdout",
     "output_type": "stream",
     "text": [
      "Found 85 images belonging to 11 classes.\n",
      "Found 15 images belonging to 11 classes.\n"
     ]
    }
   ],
   "source": [
    "from tensorflow.keras.preprocessing.image import ImageDataGenerator\n",
    "import os\n",
    "# ImageDataGenerator 설정\n",
    "datagen = ImageDataGenerator(\n",
    "    rescale=1./255,\n",
    "    rotation_range=20,\n",
    "    width_shift_range=0.2,\n",
    "    height_shift_range=0.2,\n",
    "    shear_range=0.2,\n",
    "    zoom_range=0.2,\n",
    "    horizontal_flip=True,\n",
    "    validation_split=0.2  # 검증 데이터셋 비율\n",
    ")\n",
    "\n",
    "# train_generator 정의\n",
    "train_generator = datagen.flow_from_directory(\n",
    "    'categorized_images',  # 데이터셋 폴더 경로 지정\n",
    "    target_size=(150, 150),  # 이미지 크기\n",
    "    batch_size=32,\n",
    "    class_mode='categorical',  # 다중 분류\n",
    "    subset='training'  # 트레이닝 데이터셋\n",
    ")\n",
    "\n",
    "\n",
    "# validation_generator 정의\n",
    "validation_generator = datagen.flow_from_directory(\n",
    "    'categorized_images',  # 데이터셋 폴더 경로 지정\n",
    "    target_size=(150, 150),  # 이미지 크기\n",
    "    batch_size=32,\n",
    "    class_mode='categorical',  # 다중 분류\n",
    "    subset='validation'  # 검증 데이터셋\n",
    ")\n"
   ]
  },
  {
   "cell_type": "code",
   "execution_count": 9,
   "metadata": {},
   "outputs": [
    {
     "name": "stdout",
     "output_type": "stream",
     "text": [
      "[]\n"
     ]
    }
   ],
   "source": []
  },
  {
   "cell_type": "code",
   "execution_count": 4,
   "metadata": {},
   "outputs": [
    {
     "name": "stdout",
     "output_type": "stream",
     "text": [
      "Epoch 1/10\n",
      "2/2 [==============================] - 3s 1s/step - loss: 2.2875 - accuracy: 0.2453\n",
      "Epoch 2/10\n",
      "2/2 [==============================] - 2s 1s/step - loss: 2.1476 - accuracy: 0.3396\n",
      "Epoch 3/10\n",
      "2/2 [==============================] - 3s 1s/step - loss: 2.0703 - accuracy: 0.3125\n",
      "Epoch 4/10\n",
      "2/2 [==============================] - 3s 1s/step - loss: 1.8174 - accuracy: 0.3594\n",
      "Epoch 5/10\n",
      "2/2 [==============================] - 3s 1s/step - loss: 1.6806 - accuracy: 0.4375\n",
      "Epoch 6/10\n",
      "2/2 [==============================] - 2s 1s/step - loss: 1.7434 - accuracy: 0.5283\n",
      "Epoch 7/10\n",
      "2/2 [==============================] - 3s 1s/step - loss: 1.7354 - accuracy: 0.4375\n",
      "Epoch 8/10\n",
      "2/2 [==============================] - 2s 905ms/step - loss: 1.5363 - accuracy: 0.4717\n",
      "Epoch 9/10\n",
      "2/2 [==============================] - 2s 1s/step - loss: 1.5425 - accuracy: 0.5094\n",
      "Epoch 10/10\n",
      "2/2 [==============================] - 3s 1s/step - loss: 1.3924 - accuracy: 0.5312\n"
     ]
    },
    {
     "data": {
      "text/plain": [
       "<keras.src.callbacks.History at 0x15c008bc8e0>"
      ]
     },
     "execution_count": 4,
     "metadata": {},
     "output_type": "execute_result"
    }
   ],
   "source": [
    "from tensorflow.keras.applications import VGG16\n",
    "from tensorflow.keras.models import Model\n",
    "from tensorflow.keras.layers import Flatten, Dense\n",
    "from tensorflow.keras.optimizers import Adam\n",
    "\n",
    "\n",
    "# VGG16 모델 불러오기\n",
    "base_model = VGG16(weights='imagenet', include_top=False, input_shape=(150, 150, 3))\n",
    "\n",
    "# 모델의 상위 레이어를 동결\n",
    "for layer in base_model.layers:\n",
    "    layer.trainable = False\n",
    "\n",
    "# 커스텀 레이어 추가\n",
    "x = Flatten()(base_model.output)\n",
    "x = Dense(1024, activation='relu')(x)\n",
    "predictions = Dense(train_generator.num_classes, activation='softmax')(x)\n",
    "\n",
    "# 최종 모델\n",
    "model = Model(inputs=base_model.input, outputs=predictions)\n",
    "\n",
    "# 모델 컴파일\n",
    "model.compile(optimizer=Adam(learning_rate=0.0001), loss='categorical_crossentropy', metrics=['accuracy'])\n",
    "\n",
    "# 모델 학습\n",
    "model.fit(\n",
    "    train_generator,\n",
    "    steps_per_epoch=train_generator.samples // train_generator.batch_size,\n",
    "    validation_data=validation_generator,\n",
    "    validation_steps=validation_generator.samples // validation_generator.batch_size,\n",
    "    epochs=10  # 에폭 수\n",
    ")\n"
   ]
  },
  {
   "cell_type": "code",
   "execution_count": 5,
   "metadata": {},
   "outputs": [
    {
     "name": "stderr",
     "output_type": "stream",
     "text": [
      "c:\\Users\\gjaischool\\anaconda3\\envs\\MetaWave\\lib\\site-packages\\keras\\src\\engine\\training.py:3000: UserWarning: You are saving your model as an HDF5 file via `model.save()`. This file format is considered legacy. We recommend using instead the native Keras format, e.g. `model.save('my_model.keras')`.\n",
      "  saving_api.save_model(\n"
     ]
    }
   ],
   "source": [
    "\n",
    "# 모델 저장\n",
    "model.save('vgg16_model.h5')  # 모델을 저장할 파일 이름\n"
   ]
  },
  {
   "cell_type": "code",
   "execution_count": 2,
   "metadata": {},
   "outputs": [
    {
     "name": "stderr",
     "output_type": "stream",
     "text": [
      "c:\\Users\\gjaischool\\anaconda3\\envs\\MetaWave\\lib\\site-packages\\numpy\\_distributor_init.py:30: UserWarning: loaded more than 1 DLL from .libs:\n",
      "c:\\Users\\gjaischool\\anaconda3\\envs\\MetaWave\\lib\\site-packages\\numpy\\.libs\\libopenblas.EL2C6PLE4ZYW3ECEVIV3OXXGRN2NRFM2.gfortran-win_amd64.dll\n",
      "c:\\Users\\gjaischool\\anaconda3\\envs\\MetaWave\\lib\\site-packages\\numpy\\.libs\\libopenblas64__v0.3.21-gcc_10_3_0.dll\n",
      "  warnings.warn(\"loaded more than 1 DLL from .libs:\"\n",
      "c:\\Users\\gjaischool\\anaconda3\\envs\\MetaWave\\lib\\site-packages\\requests\\__init__.py:102: RequestsDependencyWarning: urllib3 (1.26.8) or chardet (5.2.0)/charset_normalizer (None) doesn't match a supported version!\n",
      "  warnings.warn(\"urllib3 ({}) or chardet ({})/charset_normalizer ({}) doesn't match a supported \"\n"
     ]
    }
   ],
   "source": [
    "from tensorflow.keras.models import load_model\n",
    "\n",
    "loaded_model = load_model('vgg16_model.h5')"
   ]
  },
  {
   "cell_type": "code",
   "execution_count": 13,
   "metadata": {},
   "outputs": [
    {
     "name": "stdout",
     "output_type": "stream",
     "text": [
      "1/1 [==============================] - 0s 215ms/step\n"
     ]
    }
   ],
   "source": [
    "from tensorflow.keras.preprocessing import image\n",
    "from tensorflow.keras.applications.vgg16 import preprocess_input\n",
    "import numpy as np\n",
    "\n",
    "# 모델 파일 경로 설정\n",
    "model_path = 'vgg16_model.h5'\n",
    "\n",
    "# 모델 로드\n",
    "model = load_model(model_path)\n",
    "\n",
    "def classify_image(img_path):\n",
    "    # 이미지 로드 및 크기 조정\n",
    "    img = image.load_img(img_path, target_size=(150, 150))\n",
    "\n",
    "    # 이미지를 배열로 변환\n",
    "    img_array = image.img_to_array(img)\n",
    "\n",
    "    img_array = np.expand_dims(img_array, axis=0)\n",
    "    img_array = preprocess_input(img_array)\n",
    "\n",
    "    # 이미지 예측\n",
    "    predictions = model.predict(img_array)\n",
    "\n",
    "    # 가장 높은 확률을 가진 클래스 반환\n",
    "    predicted_class = np.argmax(predictions, axis=1)\n",
    "    return predicted_class\n",
    "\n",
    "img_path = r'C:\\Users\\gjaischool\\Desktop\\MetaWave\\MetaWave\\test_img\\cda25cac-5238-4380-b15e-84dcd07b1e06.png'\n",
    "result = classify_image(img_path)"
   ]
  },
  {
   "cell_type": "code",
   "execution_count": 14,
   "metadata": {},
   "outputs": [
    {
     "name": "stdout",
     "output_type": "stream",
     "text": [
      "Predicted Class: [8]\n"
     ]
    }
   ],
   "source": [
    "print(\"Predicted Class:\", result)"
   ]
  },
  {
   "cell_type": "code",
   "execution_count": 15,
   "metadata": {},
   "outputs": [],
   "source": [
    "class_labels = []\n",
    "\n",
    "# 폴더 경로 설정\n",
    "folder_path = r'C:\\Users\\gjaischool\\Desktop\\MetaWave\\MetaWave\\categorized_images'\n",
    "\n",
    "\n",
    "# 폴더 내의 모든 하위 폴더를 순회하여 클래스 레이블 생성\n",
    "for folder_name in os.listdir(folder_path):\n",
    "    if os.path.isdir(os.path.join(folder_path, folder_name)):\n",
    "        class_labels.append(folder_name)"
   ]
  },
  {
   "cell_type": "code",
   "execution_count": 16,
   "metadata": {},
   "outputs": [
    {
     "name": "stdout",
     "output_type": "stream",
     "text": [
      "love\n"
     ]
    }
   ],
   "source": [
    "print(class_labels[result.max() -1])"
   ]
  },
  {
   "cell_type": "code",
   "execution_count": 12,
   "metadata": {},
   "outputs": [],
   "source": []
  },
  {
   "cell_type": "code",
   "execution_count": null,
   "metadata": {},
   "outputs": [],
   "source": []
  }
 ],
 "metadata": {
  "kernelspec": {
   "display_name": "base",
   "language": "python",
   "name": "python3"
  },
  "language_info": {
   "codemirror_mode": {
    "name": "ipython",
    "version": 3
   },
   "file_extension": ".py",
   "mimetype": "text/x-python",
   "name": "python",
   "nbconvert_exporter": "python",
   "pygments_lexer": "ipython3",
   "version": "3.8.18"
  }
 },
 "nbformat": 4,
 "nbformat_minor": 2
}
