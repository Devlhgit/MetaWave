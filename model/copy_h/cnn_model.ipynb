{
 "cells": [
  {
   "cell_type": "code",
   "execution_count": 4,
   "metadata": {},
   "outputs": [
    {
     "name": "stdout",
     "output_type": "stream",
     "text": [
      "Found 95 images belonging to 20 classes.\n",
      "Found 13 images belonging to 20 classes.\n"
     ]
    },
    {
     "name": "stdout",
     "output_type": "stream",
     "text": [
      "Epoch 1/10\n",
      "2/2 [==============================] - 2s 744ms/step - loss: 19.3798 - accuracy: 0.0312\n",
      "Epoch 2/10\n",
      "2/2 [==============================] - 1s 526ms/step - loss: 15.4087 - accuracy: 0.0476\n",
      "Epoch 3/10\n",
      "2/2 [==============================] - 1s 586ms/step - loss: 12.3881 - accuracy: 0.1111\n",
      "Epoch 4/10\n",
      "2/2 [==============================] - 1s 518ms/step - loss: 10.6560 - accuracy: 0.1094\n",
      "Epoch 5/10\n",
      "2/2 [==============================] - 1s 511ms/step - loss: 8.9652 - accuracy: 0.1111\n",
      "Epoch 6/10\n",
      "2/2 [==============================] - 1s 595ms/step - loss: 6.6325 - accuracy: 0.2381\n",
      "Epoch 7/10\n",
      "2/2 [==============================] - 1s 538ms/step - loss: 6.1997 - accuracy: 0.0794\n",
      "Epoch 8/10\n",
      "2/2 [==============================] - 1s 540ms/step - loss: 4.0138 - accuracy: 0.2063\n",
      "Epoch 9/10\n",
      "2/2 [==============================] - 1s 507ms/step - loss: 4.0398 - accuracy: 0.1587\n",
      "Epoch 10/10\n",
      "2/2 [==============================] - 1s 528ms/step - loss: 3.7388 - accuracy: 0.1746\n"
     ]
    },
    {
     "data": {
      "text/plain": [
       "<keras.src.callbacks.History at 0x16401000e50>"
      ]
     },
     "execution_count": 4,
     "metadata": {},
     "output_type": "execute_result"
    }
   ],
   "source": [
    "# 데이터로드\n",
    "from tensorflow.keras.preprocessing.image import ImageDataGenerator\n",
    "from tensorflow.keras.models import Sequential\n",
    "from tensorflow.keras.layers import Conv2D, MaxPooling2D, Flatten, Dense\n",
    "\n",
    "# ImageDataGenerator 설정\n",
    "datagen = ImageDataGenerator(\n",
    "    rescale=1./255,\n",
    "    rotation_range=20,\n",
    "    width_shift_range=0.2,\n",
    "    height_shift_range=0.2,\n",
    "    shear_range=0.2,                                    \n",
    "    zoom_range=0.2,\n",
    "    horizontal_flip=True,\n",
    "    validation_split=0.2  # 검증 데이터셋 비율\n",
    ")\n",
    "\n",
    "train_generator = datagen.flow_from_directory(\n",
    "    'test',  # 'test' 폴더의 경로\n",
    "    target_size=(150, 150),  # 이미지 크기\n",
    "    batch_size=32,\n",
    "    class_mode='categorical',  # 다중 분류\n",
    "    subset='training'\n",
    ")\n",
    "\n",
    "validation_generator = datagen.flow_from_directory(\n",
    "    'test',\n",
    "    target_size=(150, 150),\n",
    "    batch_size=32,\n",
    "    class_mode='categorical',\n",
    "    subset='validation'\n",
    ")\n",
    "\n",
    "# CNN 모델 구축\n",
    "model = Sequential([\n",
    "    Conv2D(32, (3, 3), activation='relu', input_shape=(150, 150, 3)),\n",
    "    MaxPooling2D(2, 2),\n",
    "    # 추가 Conv2D 및 MaxPooling2D 레이어\n",
    "    Flatten(),\n",
    "    Dense(128, activation='relu'),\n",
    "    Dense(train_generator.num_classes, activation='softmax')  # 분류 레이어\n",
    "])\n",
    "\n",
    "# 모델 컴파일\n",
    "model.compile(optimizer='adam', loss='categorical_crossentropy', metrics=['accuracy'])\n",
    "\n",
    "# 모델 학습\n",
    "model.fit(\n",
    "    train_generator,\n",
    "    steps_per_epoch=train_generator.samples // train_generator.batch_size,\n",
    "    validation_data=validation_generator,\n",
    "    validation_steps=validation_generator.samples // validation_generator.batch_size,\n",
    "    epochs=10  # 에폭 수\n",
    ")\n"
   ]
  },
  {
   "cell_type": "code",
   "execution_count": 5,
   "metadata": {},
   "outputs": [
    {
     "name": "stderr",
     "output_type": "stream",
     "text": [
      "c:\\Users\\gjaischool\\anaconda3\\envs\\MetaWave\\lib\\site-packages\\keras\\src\\engine\\training.py:3000: UserWarning: You are saving your model as an HDF5 file via `model.save()`. This file format is considered legacy. We recommend using instead the native Keras format, e.g. `model.save('my_model.keras')`.\n",
      "  saving_api.save_model(\n"
     ]
    }
   ],
   "source": [
    "# 모델 저장\n",
    "model.save('cnn_model.h5')  # 모델을 저장할 파일 이름\n"
   ]
  },
  {
   "cell_type": "code",
   "execution_count": 6,
   "metadata": {},
   "outputs": [],
   "source": [
    "from tensorflow.keras.models import load_model\n",
    "\n",
    "# 저장된 모델 불러오기\n",
    "loaded_model = load_model('cnn_model.h5')\n",
    "\n",
    "# 불러온 모델을 사용하여 예측\n",
    "# 예를 들어, 새로운 이미지 데이터를 불러와서 예측을 수행합니다.\n",
    "# new_image_data는 예측을 수행할 새로운 이미지 데이터입니다.\n",
    "# 예측 결과는 클래스 인덱스의 배열로 반환됩니다.\n",
    "\n"
   ]
  },
  {
   "cell_type": "code",
   "execution_count": 7,
   "metadata": {},
   "outputs": [
    {
     "name": "stdout",
     "output_type": "stream",
     "text": [
      "1/1 [==============================] - 0s 91ms/step\n",
      "[[2.5517246e-02 3.5498715e-03 4.3080520e-02 7.3537794e-03 1.1553175e-02\n",
      "  3.5436510e-03 2.4303704e-06 1.9833186e-01 3.5201455e-04 9.7163935e-04\n",
      "  6.7479396e-03 4.7833304e-08 5.5481344e-02 2.3446284e-02 9.8803431e-02\n",
      "  3.3589065e-01 1.3592230e-03 1.8380003e-01 3.0444973e-08 2.1486127e-04]]\n"
     ]
    }
   ],
   "source": [
    "from tensorflow.keras.preprocessing import image\n",
    "import numpy as np\n",
    "\n",
    "# 이미지 파일 로드 및 전처리\n",
    "img_path = 'imgdata (3).jpg'  # 이미지 파일 경로\n",
    "img = image.load_img(img_path, target_size=(150, 150))  # 모델에 맞는 이미지 크기로 조정\n",
    "img_array = image.img_to_array(img)  # 이미지를 넘파이 배열로 변환\n",
    "img_array = np.expand_dims(img_array, axis=0)  # 이미지에 배치 차원 추가\n",
    "img_array /= 255.  # 이미지 정규화\n",
    "\n",
    "# 예측 수행\n",
    "predictions = loaded_model.predict(img_array)\n",
    "\n",
    "\n",
    "print(predictions)"
   ]
  },
  {
   "cell_type": "code",
   "execution_count": 13,
   "metadata": {},
   "outputs": [
    {
     "name": "stdout",
     "output_type": "stream",
     "text": [
      "가장 높은 예측값입니다. 0.33589065\n",
      "가장 높은 예측클래스입니다. 15\n"
     ]
    }
   ],
   "source": [
    "print(\"가장 높은 예측값입니다.\", predictions.max())\n",
    "print(\"가장 높은 예측클래스입니다.\", predictions.argmax())\n",
    "# 인덱스가 의미하는 폴더이름라벨링"
   ]
  },
  {
   "cell_type": "code",
   "execution_count": 10,
   "metadata": {},
   "outputs": [
    {
     "data": {
      "text/plain": [
       "(0.33589065, 15)"
      ]
     },
     "execution_count": 10,
     "metadata": {},
     "output_type": "execute_result"
    }
   ],
   "source": [
    "import numpy as np\n",
    "\n",
    "# 예측 결과\n",
    "predictions = np.array([[2.5517246e-02, 3.5498715e-03, 4.3080520e-02, 7.3537794e-03, 1.1553175e-02,\n",
    "                         3.5436510e-03, 2.4303704e-06, 1.9833186e-01, 3.5201455e-04, 9.7163935e-04,\n",
    "                         6.7479396e-03, 4.7833304e-08, 5.5481344e-02, 2.3446284e-02, 9.8803431e-02,\n",
    "                         3.3589065e-01, 1.3592230e-03, 1.8380003e-01, 3.0444973e-08, 2.1486127e-04]])\n",
    "\n",
    "# 가장 높은 예측 결과와 해당 인덱스 찾기\n",
    "highest_prediction = np.max(predictions)\n",
    "predicted_class = np.argmax(predictions)\n",
    "predictions.highest_prediction, predicted_class\n",
    "\n"
   ]
  },
  {
   "cell_type": "code",
   "execution_count": null,
   "metadata": {},
   "outputs": [],
   "source": []
  },
  {
   "cell_type": "code",
   "execution_count": null,
   "metadata": {},
   "outputs": [],
   "source": []
  },
  {
   "cell_type": "code",
   "execution_count": null,
   "metadata": {},
   "outputs": [],
   "source": []
  },
  {
   "cell_type": "code",
   "execution_count": null,
   "metadata": {},
   "outputs": [],
   "source": []
  },
  {
   "cell_type": "code",
   "execution_count": null,
   "metadata": {},
   "outputs": [],
   "source": []
  },
  {
   "cell_type": "code",
   "execution_count": null,
   "metadata": {},
   "outputs": [],
   "source": []
  },
  {
   "cell_type": "code",
   "execution_count": null,
   "metadata": {},
   "outputs": [],
   "source": []
  },
  {
   "cell_type": "code",
   "execution_count": null,
   "metadata": {},
   "outputs": [],
   "source": []
  },
  {
   "cell_type": "code",
   "execution_count": null,
   "metadata": {},
   "outputs": [],
   "source": []
  },
  {
   "cell_type": "code",
   "execution_count": null,
   "metadata": {},
   "outputs": [],
   "source": []
  },
  {
   "cell_type": "code",
   "execution_count": null,
   "metadata": {},
   "outputs": [],
   "source": []
  },
  {
   "cell_type": "code",
   "execution_count": null,
   "metadata": {},
   "outputs": [],
   "source": []
  },
  {
   "cell_type": "code",
   "execution_count": null,
   "metadata": {},
   "outputs": [],
   "source": []
  },
  {
   "cell_type": "code",
   "execution_count": null,
   "metadata": {},
   "outputs": [],
   "source": []
  }
 ],
 "metadata": {
  "kernelspec": {
   "display_name": "base",
   "language": "python",
   "name": "python3"
  },
  "language_info": {
   "codemirror_mode": {
    "name": "ipython",
    "version": 3
   },
   "file_extension": ".py",
   "mimetype": "text/x-python",
   "name": "python",
   "nbconvert_exporter": "python",
   "pygments_lexer": "ipython3",
   "version": "3.8.18"
  }
 },
 "nbformat": 4,
 "nbformat_minor": 2
}
